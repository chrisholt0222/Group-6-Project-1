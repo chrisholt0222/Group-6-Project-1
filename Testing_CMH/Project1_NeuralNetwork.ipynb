{
 "cells": [
  {
   "cell_type": "code",
   "execution_count": 30,
   "metadata": {},
   "outputs": [],
   "source": [
    "# Dependencies and Setup\n",
    "#%matplotlib inline\n",
    "import numpy as np\n",
    "import pandas as pd\n",
    "import matplotlib.pyplot as plt\n",
    "from sklearn.preprocessing import LabelEncoder\n",
    "import statsmodels.formula.api as smf\n",
    "import statsmodels.api as sm\n",
    "import scipy.stats as stats"
   ]
  },
  {
   "cell_type": "code",
   "execution_count": 31,
   "metadata": {
    "scrolled": true
   },
   "outputs": [],
   "source": [
    "# Import data to convert text fields to categorical fields\n",
    "data = pd.read_csv(\"train.csv\")\n",
    "d = data[[\"LotArea\", \"OverallQual\", \"YearRemodAdd\", \"TotalBsmtSF\", \"GrLivArea\", \"SalePrice\" ]].copy()\n",
    "d[\"ln_SalePrice\"] = np.log(d[\"SalePrice\"])\n",
    "formodel = (d - d.mean()) / (d.max() - d.min())\n",
    "#formodel.describe()"
   ]
  },
  {
   "cell_type": "code",
   "execution_count": 32,
   "metadata": {
    "scrolled": false
   },
   "outputs": [],
   "source": [
    "# Create formula (form1) for use in linear models\n",
    "a = formodel.columns[0]\n",
    "b = formodel.columns[1]\n",
    "c = formodel.columns[2]\n",
    "d = formodel.columns[3]\n",
    "e = formodel.columns[4]\n",
    "\n",
    "form1 = \"SalePrice ~ \" + a + \" + \" +  b + \" + \" + c + \" + \" + d + \" + \" + e\n",
    "form2 = \"ln_SalePrice ~ \" + a + \" + \" +  b + \" + \" + c + \" + \" + d + \" + \" + e\n",
    "#form2"
   ]
  },
  {
   "cell_type": "code",
   "execution_count": 33,
   "metadata": {
    "scrolled": true
   },
   "outputs": [],
   "source": [
    "# GLM consistent with Ordinary least squares --- sm.families.links.log\n",
    "model_ols = smf.glm(formula = form1, data = formodel, family = sm.families.Gaussian(sm.families.links.log)).fit()\n",
    "#print(model_ols.summary())\n",
    "ols_test = smf.ols(formula = form2, data = formodel).fit()\n",
    "#print(ols_test.summary())"
   ]
  },
  {
   "cell_type": "code",
   "execution_count": 34,
   "metadata": {
    "scrolled": true
   },
   "outputs": [
    {
     "data": {
      "image/png": "[encoded data removed]",
      "text/plain": [
       "<Figure size 432x288 with 1 Axes>"
      ]
     },
     "metadata": {
      "needs_background": "light"
     },
     "output_type": "display_data"
    }
   ],
   "source": [
    "formodel[\"Pred1\"] = model_ols.predict()\n",
    "formodel[\"Pred2\"] = ols_test.predict()\n",
    "min = 0\n",
    "max = 1\n",
    "plt.scatter(np.sort(formodel[\"Pred1\"]),np.sort(formodel[\"SalePrice\"]),color=\"blue\",label=\"GLM - Log\")\n",
    "plt.scatter(np.sort(formodel[\"Pred2\"]),np.sort(formodel[\"SalePrice\"]),color=\"red\",label=\"OLS - Log\")\n",
    "plt.legend()\n",
    "plt.plot([0,max],[0,max])\n",
    "\n",
    "plt.axis(\"equal\")\n",
    "plt.title(\"Q-Q Plot\")\n",
    "plt.xticks(rotation = 60)\n",
    "plt.xlim(min,max)\n",
    "plt.ylim(min,max)\n",
    "\n",
    "plt.show()"
   ]
  },
  {
   "cell_type": "code",
   "execution_count": 35,
   "metadata": {},
   "outputs": [
    {
     "name": "stdout",
     "output_type": "stream",
     "text": [
      "<F test: F=array([[161.34450573]]), p=1.4017662807725274e-136, df_denom=1454, df_num=5>\n"
     ]
    }
   ],
   "source": [
    "A = np.identity(len(model_ols.params))\n",
    "A = A[1:,:]\n",
    "print(model_ols.f_test(A))"
   ]
  },
  {
   "cell_type": "code",
   "execution_count": 36,
   "metadata": {},
   "outputs": [
    {
     "name": "stderr",
     "output_type": "stream",
     "text": [
      "C:\\Users\\mryet\\Anaconda3\\envs\\NeuralNetwork\\lib\\site-packages\\ipykernel_launcher.py:5: DataConversionWarning: Data with input dtype int64 were all converted to float64 by the scale function.\n",
      "  \"\"\"\n"
     ]
    }
   ],
   "source": [
    "from sklearn import preprocessing\n",
    "\n",
    "X = data[[\"LotArea\", \"OverallQual\", \"YearRemodAdd\", \"TotalBsmtSF\", \"GrLivArea\"]].copy()\n",
    "\n",
    "X_train = preprocessing.scale(X)\n",
    "X_train = pd.DataFrame(X_train,columns=X.columns)\n",
    "y_train = data[[\"SalePrice\"]].copy()\n",
    "#y_train = preprocessing.scale(y) y_train.mean() y_train.min() X_train.describe()"
   ]
  },
  {
   "cell_type": "code",
   "execution_count": 79,
   "metadata": {
    "scrolled": true
   },
   "outputs": [
    {
     "name": "stdout",
     "output_type": "stream",
     "text": [
      "_________________________________________________________________\n",
      "Layer (type)                 Output Shape              Param #   \n",
      "=================================================================\n",
      "dense_30 (Dense)             (None, 5)                 30        \n",
      "_________________________________________________________________\n",
      "dense_31 (Dense)             (None, 20)                120       \n",
      "_________________________________________________________________\n",
      "dense_32 (Dense)             (None, 10)                210       \n",
      "_________________________________________________________________\n",
      "dense_33 (Dense)             (None, 10)                110       \n",
      "_________________________________________________________________\n",
      "dense_34 (Dense)             (None, 1)                 11        \n",
      "=================================================================\n",
      "Total params: 481\n",
      "Trainable params: 481\n",
      "Non-trainable params: 0\n",
      "_________________________________________________________________\n"
     ]
    }
   ],
   "source": [
    "#Imports\n",
    "from keras.models import Sequential\n",
    "from keras.layers import Dense\n",
    "# Add the first hidden layer\n",
    "model = Sequential()\n",
    "model.add(Dense(5, activation= 'relu', input_dim=5))\n",
    "model.add(Dense(20, activation= 'relu'))\n",
    "model.add(Dense(10, activation= 'relu'))\n",
    "model.add(Dense(10, activation= 'relu'))\n",
    "model.add(Dense(1))\n",
    "model.compile(loss='mse', optimizer='adam', metrics=['mse'])\n",
    "\n",
    "model.summary()"
   ]
  },
  {
   "cell_type": "code",
   "execution_count": 80,
   "metadata": {
    "scrolled": false
   },
   "outputs": [
    {
     "data": {
      "text/plain": [
       "<keras.callbacks.History at 0x196cb135080>"
      ]
     },
     "execution_count": 80,
     "metadata": {},
     "output_type": "execute_result"
    }
   ],
   "source": [
    "model.fit(X_train, y_train, epochs=200, verbose=False)"
   ]
  },
  {
   "cell_type": "code",
   "execution_count": 81,
   "metadata": {},
   "outputs": [
    {
     "data": {
      "text/plain": [
       "180761.42"
      ]
     },
     "execution_count": 81,
     "metadata": {},
     "output_type": "execute_result"
    }
   ],
   "source": [
    "output_X = model.predict(X_train)\n",
    "output_X.mean()"
   ]
  },
  {
   "cell_type": "code",
   "execution_count": 82,
   "metadata": {},
   "outputs": [
    {
     "data": {
      "image/png": "[encoded data removed]",
      "text/plain": [
       "<Figure size 432x288 with 1 Axes>"
      ]
     },
     "metadata": {
      "needs_background": "light"
     },
     "output_type": "display_data"
    }
   ],
   "source": [
    "min = 0\n",
    "max = 800000\n",
    "plt.scatter(np.sort(output_X), np.sort(y_train), s = 5, color=\"blue\", label=\"Neural Network\")\n",
    "plt.plot([0,max],[0,max])\n",
    "\n",
    "plt.axis(\"equal\")\n",
    "plt.title(\"Q-Q Plot\")\n",
    "plt.xticks(rotation = 60)\n",
    "plt.xlim(min,max)\n",
    "plt.ylim(min,max)\n",
    "plt.show()"
   ]
  },
  {
   "cell_type": "code",
   "execution_count": 83,
   "metadata": {},
   "outputs": [
    {
     "data": {
      "image/png": "[encoded data removed]",
      "text/plain": [
       "<Figure size 432x288 with 1 Axes>"
      ]
     },
     "metadata": {
      "needs_background": "light"
     },
     "output_type": "display_data"
    },
    {
     "name": "stdout",
     "output_type": "stream",
     "text": [
      "Min: $-565,413  Max: $252,357\n"
     ]
    }
   ],
   "source": [
    "diff = y_train - output_X\n",
    "diff.plot.hist()\n",
    "plt.xticks(rotation=60)\n",
    "plt.title(\"Histogram of Difference\")\n",
    "plt.show()\n",
    "print(\"Min: \" + \"${:,.0f}\".format(diff.min()[0]) + \"  Max: \" + \"${:,.0f}\".format(diff.max()[0]))"
   ]
  },
  {
   "cell_type": "code",
   "execution_count": null,
   "metadata": {},
   "outputs": [],
   "source": []
  }
 ],
 "metadata": {
  "kernelspec": {
   "display_name": "NeuralNetwork",
   "language": "python",
   "name": "neuralnetwork"
  },
  "language_info": {
   "codemirror_mode": {
    "name": "ipython",
    "version": 3
   },
   "file_extension": ".py",
   "mimetype": "text/x-python",
   "name": "python",
   "nbconvert_exporter": "python",
   "pygments_lexer": "ipython3",
   "version": "3.6.8"
  }
 },
 "nbformat": 4,
 "nbformat_minor": 2
}
